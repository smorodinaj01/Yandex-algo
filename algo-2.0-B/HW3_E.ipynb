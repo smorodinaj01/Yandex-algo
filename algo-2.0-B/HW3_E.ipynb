{
 "cells": [
  {
   "cell_type": "markdown",
   "metadata": {},
   "source": [
    "# Автомобильные номера\n",
    "\n",
    "Сначала задано число  - количество свидетелей. Далее идет M строк, каждая из которых описывает показания очередного свидетеля. Эти строки непустые и состоят из не более чем 20 символов. Каждый символ в строке - либо цифра, либо заглавная латинская буква, причём символы могут повторяться.\n",
    "Затем идёт число  - количество номеров. Следующие строки представляют из себя номера подозреваемых машин и имеют такой же формат, как и показания свидетелей."
   ]
  },
  {
   "cell_type": "markdown",
   "metadata": {},
   "source": [
    "# Формат ввода\n",
    "\n",
    "Сначала задано число  - количество свидетелей. Далее идет $M$ строк, каждая из которых описывает показания очередного свидетеля. Эти строки непустые и состоят из не более чем 20 символов. Каждый символ в строке - либо цифра, либо заглавная латинская буква, причём символы могут повторяться.\n",
    "Затем идёт число  $N$ - количество номеров. Следующие строки представляют из себя номера подозреваемых машин и имеют такой же формат, как и показания свидетелей."
   ]
  },
  {
   "cell_type": "markdown",
   "metadata": {},
   "source": [
    "# Формат вывода\n",
    "Выпишите номера автомобилей, согласующиеся с максимальным количеством свидетелей. Если таких номеров несколько, то выведите их в том же порядке, в котором они были заданы на входе."
   ]
  },
  {
   "cell_type": "code",
   "execution_count": 2,
   "metadata": {},
   "outputs": [
    {
     "name": "stdout",
     "output_type": "stream",
     "text": [
      "djf\n",
      "sjfdkj\n"
     ]
    }
   ],
   "source": [
    "m = int(input())\n",
    "wits = []\n",
    "\n",
    "for _ in range(m):\n",
    "    wits.append(set(input().strip()))\n",
    "n = int(input())\n",
    "nums = []\n",
    "maxwitcnt = 0  # максимальное число свидетелей\n",
    "\n",
    "for i in range(n):\n",
    "    num = input().strip()\n",
    "    numset = set(num)\n",
    "    witcnt = 0\n",
    "    for wit in wits: \n",
    "        if wit <= numset:\n",
    "            witcnt += 1\n",
    "    nums.append((num, witcnt))\n",
    "    maxwitcnt = max(maxwitcnt, witcnt)\n",
    "ans = []\n",
    "for num in nums:\n",
    "    if num[1] == maxwitcnt:\n",
    "        ans.append(num[0])\n",
    "print('\\n'.join(ans))\n"
   ]
  }
 ],
 "metadata": {
  "kernelspec": {
   "display_name": "Python 3.10.4 64-bit",
   "language": "python",
   "name": "python3"
  },
  "language_info": {
   "codemirror_mode": {
    "name": "ipython",
    "version": 3
   },
   "file_extension": ".py",
   "mimetype": "text/x-python",
   "name": "python",
   "nbconvert_exporter": "python",
   "pygments_lexer": "ipython3",
   "version": "3.10.4"
  },
  "orig_nbformat": 4,
  "vscode": {
   "interpreter": {
    "hash": "916dbcbb3f70747c44a77c7bcd40155683ae19c65e1c03b4aa3499c5328201f1"
   }
  }
 },
 "nbformat": 4,
 "nbformat_minor": 2
}
